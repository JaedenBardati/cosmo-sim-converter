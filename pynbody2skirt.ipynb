{
 "cells": [
  {
   "cell_type": "markdown",
   "id": "c7e2cde3",
   "metadata": {},
   "source": [
    "# Pynbody2SKIRT"
   ]
  },
  {
   "cell_type": "markdown",
   "id": "b14b9f7a",
   "metadata": {},
   "source": [
    "This Jupyter Notebook demonstrates how to convert pynbody-loaded Nchilada (or other) files into (single-file) ASCII format usable by the [SKIRT](https://skirt.ugent.be/root/_home.html) radiative transfer code using `cosmo-sim-converter`. \n",
    "\n",
    "This is used to streamline the process in generating ASCII format smoothed particle data medium input to the SKIRT radiative transfer code. Note that I also have a [repository](https://github.com/JaedenBardati/skirt-datacube) for handling SKIRT output.\n",
    "\n",
    "**REQUIRES:** `pynbody`, `cosmo_sim_converter.py`"
   ]
  },
  {
   "cell_type": "code",
   "execution_count": null,
   "id": "0092b8f9",
   "metadata": {},
   "outputs": [],
   "source": [
    "import pynbody\n",
    "import cosmo_sim_converter as csc  # custom file that accompanies this notebook"
   ]
  },
  {
   "cell_type": "markdown",
   "id": "b12430db",
   "metadata": {},
   "source": [
    "##### Load desired snapshot (or halo) in pynbody"
   ]
  },
  {
   "cell_type": "code",
   "execution_count": null,
   "id": "d328e732",
   "metadata": {},
   "outputs": [],
   "source": [
    "ts = pynbody.load(\"/scratch/jbardati/projectdata/Romulus25/cosmo25p.768sg1bwK1BHe75.005107\")\n",
    "halo = ts.halos(dosort=True).load_copy(1)"
   ]
  },
  {
   "cell_type": "markdown",
   "id": "d031e467",
   "metadata": {},
   "source": [
    "##### Save file using csc"
   ]
  },
  {
   "cell_type": "code",
   "execution_count": null,
   "id": "e028d054",
   "metadata": {},
   "outputs": [],
   "source": [
    "# define the output filepath (without extension)\n",
    "filename = 'halo_5107_1'"
   ]
  },
  {
   "cell_type": "code",
   "execution_count": null,
   "id": "5efa182b",
   "metadata": {},
   "outputs": [],
   "source": [
    "# call function to save as gadget HDF5\n",
    "csc.pynbody2skirt(halo, filename=filename)"
   ]
  },
  {
   "cell_type": "markdown",
   "id": "0ac1701e-5089-4710-9ed1-ee6543fc9f37",
   "metadata": {},
   "source": [
    "The output files will have the form `{filename}_stars.txt` and `{filename}_gas.txt`. "
   ]
  },
  {
   "cell_type": "markdown",
   "id": "58c681d7",
   "metadata": {},
   "source": [
    "### Load converted files"
   ]
  },
  {
   "cell_type": "markdown",
   "id": "819d96c3",
   "metadata": {},
   "source": [
    "You may want to test the files using a loader. There is a pandas database loader in `cosmo-sim-converter` that can do this. \n",
    "\n",
    "**REQUIRES:** `pandas`, `cosmo_sim_converter.py`"
   ]
  },
  {
   "cell_type": "code",
   "execution_count": null,
   "id": "079278b1",
   "metadata": {},
   "outputs": [],
   "source": [
    "stars = csc.load_skirt(\"halo_5107_1_stars.txt\")\n",
    "gas = csc.load_skirt(\"halo_5107_1_gas.txt\")"
   ]
  },
  {
   "cell_type": "markdown",
   "id": "318aff76",
   "metadata": {},
   "source": [
    " "
   ]
  }
 ],
 "metadata": {
  "kernelspec": {
   "display_name": "Python 3 (ipykernel)",
   "language": "python",
   "name": "python3"
  },
  "language_info": {
   "codemirror_mode": {
    "name": "ipython",
    "version": 3
   },
   "file_extension": ".py",
   "mimetype": "text/x-python",
   "name": "python",
   "nbconvert_exporter": "python",
   "pygments_lexer": "ipython3",
   "version": "3.12.0"
  }
 },
 "nbformat": 4,
 "nbformat_minor": 5
}
