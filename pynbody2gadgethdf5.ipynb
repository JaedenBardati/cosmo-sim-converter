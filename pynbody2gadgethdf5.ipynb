{
 "cells": [
  {
   "cell_type": "markdown",
   "id": "c7e2cde3",
   "metadata": {},
   "source": [
    "# Pynbody2GadgetHDF5"
   ]
  },
  {
   "cell_type": "markdown",
   "id": "b14b9f7a",
   "metadata": {},
   "source": [
    "This Jupyter Notebook demonstrates how to convert pynbody-loaded Nchilada (or potentially other cosmological simulation) files into (single-file) binary Gadget-HDF5 format using `cosmo-sim-converter`. \n",
    "\n",
    "Natively, pynbody supports single-file *binary* Gadget conversion, but does not support writing to Gadget-*HDF5* files. This code extends pynbody to add support for binary Gadget-HDF5 file format conversion. \n",
    "\n",
    "**REQUIRES:** `pynbody`, `cosmo_sim_converter.py`"
   ]
  },
  {
   "cell_type": "code",
   "execution_count": null,
   "id": "0092b8f9",
   "metadata": {},
   "outputs": [],
   "source": [
    "import pynbody\n",
    "import cosmo_sim_converter as csc  # custom file that accompanies this notebook"
   ]
  },
  {
   "cell_type": "markdown",
   "id": "b12430db",
   "metadata": {},
   "source": [
    "##### Load desired snapshot (or halo) in pynbody"
   ]
  },
  {
   "cell_type": "code",
   "execution_count": null,
   "id": "d328e732",
   "metadata": {},
   "outputs": [],
   "source": [
    "ts = pynbody.load(\"/scratch/jbardati/projectdata/Romulus25/cosmo25p.768sg1bwK1BHe75.005107\")\n",
    "halo = ts.halos(dosort=True).load_copy(1)"
   ]
  },
  {
   "cell_type": "markdown",
   "id": "d031e467",
   "metadata": {},
   "source": [
    "##### Save file using csc"
   ]
  },
  {
   "cell_type": "code",
   "execution_count": null,
   "id": "e028d054",
   "metadata": {},
   "outputs": [],
   "source": [
    "# define the output filepath\n",
    "filename = 'halo_5107_1.hdf5'"
   ]
  },
  {
   "cell_type": "code",
   "execution_count": null,
   "id": "5efa182b",
   "metadata": {},
   "outputs": [],
   "source": [
    "# call function to save as Gadget HDF5\n",
    "csc.pynbody2gadgetHDF5(halo, filename=filename)"
   ]
  },
  {
   "cell_type": "markdown",
   "id": "58c681d7",
   "metadata": {},
   "source": [
    "### Load converted files"
   ]
  },
  {
   "cell_type": "markdown",
   "id": "819d96c3",
   "metadata": {},
   "source": [
    "You may want to test the files using a loader. Both the [pynbody](https://github.com/pynbody/pynbody) and [yt](https://github.com/yt-project/yt) Python modules support loading single Gadget-HDF5 files. "
   ]
  },
  {
   "cell_type": "markdown",
   "id": "9cc368a6",
   "metadata": {},
   "source": [
    "###### With pynbody"
   ]
  },
  {
   "cell_type": "code",
   "execution_count": null,
   "id": "079278b1",
   "metadata": {},
   "outputs": [],
   "source": [
    "converted_halo_pyn = pynbody.load(\"halo_5107_1.hdf5\")"
   ]
  },
  {
   "cell_type": "markdown",
   "id": "d6cd0980",
   "metadata": {},
   "source": [
    "###### With yt"
   ]
  },
  {
   "cell_type": "code",
   "execution_count": null,
   "id": "cbff6adb",
   "metadata": {},
   "outputs": [],
   "source": [
    "import yt\n",
    "converted_halo_yt = yt.load(\"halo_5107_1.hdf5\")"
   ]
  },
  {
   "cell_type": "markdown",
   "id": "318aff76",
   "metadata": {},
   "source": [
    " "
   ]
  }
 ],
 "metadata": {
  "kernelspec": {
   "display_name": "Python 3 (ipykernel)",
   "language": "python",
   "name": "python3"
  },
  "language_info": {
   "codemirror_mode": {
    "name": "ipython",
    "version": 3
   },
   "file_extension": ".py",
   "mimetype": "text/x-python",
   "name": "python",
   "nbconvert_exporter": "python",
   "pygments_lexer": "ipython3",
   "version": "3.12.0"
  }
 },
 "nbformat": 4,
 "nbformat_minor": 5
}
