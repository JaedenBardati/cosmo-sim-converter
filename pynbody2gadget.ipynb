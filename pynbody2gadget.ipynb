{
 "cells": [
  {
   "cell_type": "markdown",
   "id": "c7e2cde3",
   "metadata": {},
   "source": [
    "# Pynbody2Gadget"
   ]
  },
  {
   "cell_type": "markdown",
   "id": "b14b9f7a",
   "metadata": {},
   "source": [
    "This Jupyter Notebook demonstrates how to convert pynbody-loaded Nchilada (or other) files into multi-file binary Gadget using `cosmo-sim-converter`. \n",
    "\n",
    "Natively, pynbody supports *single file* binary Gadget conversion, but does not support writing to *multiple* Gadget files. Thus, pynbody can convert individual halos to binary Gadget by default, however, since large cosmological simulation snapshots have larger than $\\sim 2^{32}$ bytes of data, multiple 32-bit files are required when converting entire timesteps. This code extends pynbody to add support for multi-file binary Gadget file format conversion. \n",
    "\n",
    "**REQUIRES:** `pynbody`, `cosmo_sim_converter.py`"
   ]
  },
  {
   "cell_type": "code",
   "execution_count": null,
   "id": "0092b8f9",
   "metadata": {},
   "outputs": [],
   "source": [
    "import pynbody\n",
    "import cosmo_sim_converter as csc  # custom file that accompanies this notebook"
   ]
  },
  {
   "cell_type": "markdown",
   "id": "b12430db",
   "metadata": {},
   "source": [
    "##### Load desired snapshot in pynbody"
   ]
  },
  {
   "cell_type": "code",
   "execution_count": null,
   "id": "d328e732",
   "metadata": {},
   "outputs": [],
   "source": [
    "ts = pynbody.load(\"/scratch/jbardati/projectdata/Romulus25/cosmo25p.768sg1bwK1BHe75.005107\")"
   ]
  },
  {
   "cell_type": "markdown",
   "id": "d031e467",
   "metadata": {},
   "source": [
    "##### Save file using csc"
   ]
  },
  {
   "cell_type": "code",
   "execution_count": null,
   "id": "e028d054",
   "metadata": {},
   "outputs": [],
   "source": [
    "# define the output filepath (without extension) and number of files\n",
    "filename = 'snapshot_5107'\n",
    "num_files = 16"
   ]
  },
  {
   "cell_type": "code",
   "execution_count": null,
   "id": "5efa182b",
   "metadata": {},
   "outputs": [],
   "source": [
    "# call function to save as gadget binary (in multiple files)\n",
    "csc.pynbody2gadget(ts, filename=filename, num_files=num_files)"
   ]
  },
  {
   "cell_type": "markdown",
   "id": "aa3bab25",
   "metadata": {},
   "source": [
    "The output files will have the form `{filename}.Y` where `Y` is an integer from `0` to `num_files`. \n"
   ]
  },
  {
   "cell_type": "markdown",
   "id": "a519166e",
   "metadata": {},
   "source": [
    "### Notes:\n",
    "- A high amount of memory ($\\gtrsim 10^2$ GB) may be required in order to run the conversion on an entire cosmological simulation timestep.\n",
    "- Since Gadget binary files do not have an official standard field order, the resulting files may not be recognizable to certain loaders. In this case, simply change the `field-ordering` parameter (under `[gadget-default-output]`) in pynbody's default_config.ini file, accordingly.\n",
    "- Similarly, there may be unit discrepancies between loaders. To fix a unit issue, use the `unit_base` keyword argument to define a unit system in the form of a dictionary (see `csc.GadgetBinary.DEFAULT_GADGET_UNIT_BASE`)."
   ]
  },
  {
   "cell_type": "markdown",
   "id": "58c681d7",
   "metadata": {},
   "source": [
    "### Load converted files"
   ]
  },
  {
   "cell_type": "markdown",
   "id": "819d96c3",
   "metadata": {},
   "source": [
    "You may want to test the files using a loader. Both the [pynbody](https://github.com/pynbody/pynbody) and [yt](https://github.com/yt-project/yt) Python modules support loading multi-file binary Gadget files. "
   ]
  },
  {
   "cell_type": "markdown",
   "id": "9cc368a6",
   "metadata": {},
   "source": [
    "###### With pynbody"
   ]
  },
  {
   "cell_type": "code",
   "execution_count": null,
   "id": "079278b1",
   "metadata": {},
   "outputs": [],
   "source": [
    "converted_ts_pyn = pynbody.load(\"snapshot_5107\")  # must load without the .Y extension in order to access all files"
   ]
  },
  {
   "cell_type": "markdown",
   "id": "d6cd0980",
   "metadata": {},
   "source": [
    "###### With yt"
   ]
  },
  {
   "cell_type": "code",
   "execution_count": null,
   "id": "cbff6adb",
   "metadata": {},
   "outputs": [],
   "source": [
    "import yt\n",
    "converted_ts_yt = yt.load(\"snapshot_5107.0\")  # loading the first file in yt will load them all"
   ]
  },
  {
   "cell_type": "markdown",
   "id": "318aff76",
   "metadata": {},
   "source": [
    " "
   ]
  }
 ],
 "metadata": {
  "kernelspec": {
   "display_name": "Python 3 (ipykernel)",
   "language": "python",
   "name": "python3"
  },
  "language_info": {
   "codemirror_mode": {
    "name": "ipython",
    "version": 3
   },
   "file_extension": ".py",
   "mimetype": "text/x-python",
   "name": "python",
   "nbconvert_exporter": "python",
   "pygments_lexer": "ipython3",
   "version": "3.12.0"
  }
 },
 "nbformat": 4,
 "nbformat_minor": 5
}
